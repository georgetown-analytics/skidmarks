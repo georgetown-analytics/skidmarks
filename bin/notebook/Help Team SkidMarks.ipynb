{
 "cells": [
  {
   "cell_type": "code",
   "execution_count": 10,
   "metadata": {
    "collapsed": false
   },
   "outputs": [
    {
     "name": "stdout",
     "output_type": "stream",
     "text": [
      "[(1, 'Average Velocity (mph)'), (2, 'Max Velocity'), (3, 'Velocity Stdev'), (4, 'Average Acceleration (mph per s)'), (5, 'Max Acceleration (mph per s)'), (6, ' Acceleration Stdev'), (7, 'Displacement'), (8, 'Total Distance Traveled'), (9, 'Max Direction Change per sec'), (10, ' Direction Stdev'), (11, 'Time (s)'), (12, 'Turns'), (13, 'Aggressive Turns'), (14, 'Stops'), (15, 'Large Deceleration Events'), (16, 'Deceleration Events'), (17, 'Max Deceleration Event')]\n",
      "('For n_clusters =', 3, 'The average silhouette_score is :', 0.58512569314646201)\n",
      "                            OLS Regression Results                            \n",
      "==============================================================================\n",
      "Dep. Variable:                      y   R-squared:                       0.700\n",
      "Model:                            OLS   Adj. R-squared:                  0.699\n",
      "Method:                 Least Squares   F-statistic:                     629.5\n",
      "Date:                Sun, 10 May 2015   Prob (F-statistic):               0.00\n",
      "Time:                        00:31:48   Log-Likelihood:                -3580.8\n",
      "No. Observations:                4600   AIC:                             7196.\n",
      "Df Residuals:                    4583   BIC:                             7305.\n",
      "Df Model:                          17                                         \n",
      "==============================================================================\n",
      "                 coef    std err          t      P>|t|      [95.0% Conf. Int.]\n",
      "------------------------------------------------------------------------------\n",
      "x1            -0.0444      0.002    -21.198      0.000        -0.048    -0.040\n",
      "x2             0.0050      0.001      3.724      0.000         0.002     0.008\n",
      "x3            -0.0091      0.004     -2.391      0.017        -0.017    -0.002\n",
      "x4             0.2527      0.040      6.387      0.000         0.175     0.330\n",
      "x5            -0.0117      0.001     -8.788      0.000        -0.014    -0.009\n",
      "x6             0.1414      0.023      6.152      0.000         0.096     0.186\n",
      "x7          5.521e-05   4.64e-06     11.910      0.000      4.61e-05  6.43e-05\n",
      "x8          7.965e-05   5.29e-06     15.046      0.000      6.93e-05     9e-05\n",
      "x9             0.0005      0.000      2.027      0.043      1.77e-05     0.001\n",
      "x10            0.0071      0.000     25.853      0.000         0.007     0.008\n",
      "x11           -0.0004   5.07e-05     -7.519      0.000        -0.000    -0.000\n",
      "x12            0.0010      0.001      0.672      0.502        -0.002     0.004\n",
      "x13           -0.0019      0.004     -0.479      0.632        -0.010     0.006\n",
      "x14           -0.0046      0.002     -1.838      0.066        -0.009     0.000\n",
      "x15           -0.0328      0.007     -4.689      0.000        -0.047    -0.019\n",
      "x16           -0.0263      0.003    -10.382      0.000        -0.031    -0.021\n",
      "x17           -0.0086      0.002     -5.226      0.000        -0.012    -0.005\n",
      "==============================================================================\n",
      "Omnibus:                       59.828   Durbin-Watson:                   1.853\n",
      "Prob(Omnibus):                  0.000   Jarque-Bera (JB):               63.313\n",
      "Skew:                          -0.259   Prob(JB):                     1.79e-14\n",
      "Kurtosis:                       3.247   Cond. No.                     4.98e+04\n",
      "==============================================================================\n",
      "\n",
      "Warnings:\n",
      "[1] The condition number is large, 4.98e+04. This might indicate that there are\n",
      "strong multicollinearity or other numerical problems.\n"
     ]
    }
   ],
   "source": [
    "import os\n",
    "import numpy as np\n",
    "import pandas as pd\n",
    "from sklearn.cluster import KMeans\n",
    "from sklearn.preprocessing import Imputer\n",
    "import statsmodels.api as sm\n",
    "from statsmodels.sandbox.regression.predstd import wls_prediction_std\n",
    "from sklearn.metrics import silhouette_samples, silhouette_score\n",
    "\n",
    "###############################################################################\n",
    "# Data Load\n",
    "###############################################################################\n",
    "path = os.path.abspath(os.getcwd())\n",
    "with open(os.path.normpath(os.path.join(os.path.dirname(path),'lin.csv'))) as in_data:\n",
    "    skid_data = pd.DataFrame.from_csv(in_data, sep=',')\n",
    "\n",
    "print (list(enumerate(skid_data.columns[1:],start = 1)))\n",
    "\n",
    "#Loading into the numpy array\n",
    "as_array = np.asfarray(skid_data[['Average Velocity (mph)','Max Velocity', 'Velocity Stdev','Average Acceleration (mph per s)', 'Max Acceleration (mph per s)', ' Acceleration Stdev','Displacement','Total Distance Traveled','Max Direction Change per sec', ' Direction Stdev','Time (s)', 'Turns', 'Aggressive Turns', 'Stops', 'Large Deceleration Events', 'Deceleration Events', 'Max Deceleration Event']])\n",
    "\n",
    "\n",
    "# preprocessing tricks\n",
    "imputer = Imputer(missing_values=\"NaN\", strategy=\"mean\")\n",
    "patched = imputer.fit_transform(as_array)\n",
    "\n",
    "###############################################################################\n",
    "# K-Means\n",
    "###############################################################################\n",
    "\n",
    "n_clusters=3 \n",
    "cluster = KMeans(n_clusters=n_clusters, n_init = 100)\n",
    "cluster.fit_predict(patched)\n",
    "classified_data = cluster.labels_\n",
    "\n",
    "###############################################################################################\n",
    "# Evaluate how good clusters are usng Silhouette Coefficient; lowest score is -1, highest is 1\n",
    "###############################################################################################\n",
    "\n",
    "silhouette_avg = silhouette_score(patched, classified_data)\n",
    "print(\"For n_clusters =\", n_clusters,\n",
    "      \"The average silhouette_score is :\", silhouette_avg)\n",
    "\n",
    "###############################################################################\n",
    "# Ordinary Least Squares Report\n",
    "###############################################################################\n",
    "\n",
    "model = sm.OLS(classified_data, patched)\n",
    "results = model.fit()\n",
    "print (results.summary())"
   ]
  },
  {
   "cell_type": "code",
   "execution_count": null,
   "metadata": {
    "collapsed": true
   },
   "outputs": [],
   "source": []
  },
  {
   "cell_type": "code",
   "execution_count": null,
   "metadata": {
    "collapsed": true
   },
   "outputs": [],
   "source": []
  }
 ],
 "metadata": {
  "kernelspec": {
   "display_name": "Python 2",
   "language": "python",
   "name": "python2"
  },
  "language_info": {
   "codemirror_mode": {
    "name": "ipython",
    "version": 2
   },
   "file_extension": ".py",
   "mimetype": "text/x-python",
   "name": "python",
   "nbconvert_exporter": "python",
   "pygments_lexer": "ipython2",
   "version": "2.7.6"
  }
 },
 "nbformat": 4,
 "nbformat_minor": 0
}
